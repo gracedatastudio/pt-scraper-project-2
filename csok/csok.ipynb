{
 "cells": [
  {
   "cell_type": "code",
   "execution_count": 1,
   "id": "b44d74cc",
   "metadata": {},
   "outputs": [],
   "source": [
    "# Dependencies\n",
    "import pandas as pd\n",
    "from sqlalchemy import create_engine\n",
    "import psycopg2"
   ]
  },
  {
   "cell_type": "code",
   "execution_count": 3,
   "id": "73177432",
   "metadata": {},
   "outputs": [
    {
     "ename": "SyntaxError",
     "evalue": "unexpected EOF while parsing (Temp/ipykernel_8256/568006556.py, line 1)",
     "output_type": "error",
     "traceback": [
      "\u001b[1;36m  File \u001b[1;32m\"C:\\Users\\chris\\AppData\\Local\\Temp/ipykernel_8256/568006556.py\"\u001b[1;36m, line \u001b[1;32m1\u001b[0m\n\u001b[1;33m    read_csv = pd.read_csv(#csv file name)\u001b[0m\n\u001b[1;37m                                          ^\u001b[0m\n\u001b[1;31mSyntaxError\u001b[0m\u001b[1;31m:\u001b[0m unexpected EOF while parsing\n"
     ]
    }
   ],
   "source": [
    "# read in raw csv file \n",
    "df = pd.read_csv(#csv file name)\n"
   ]
  },
  {
   "cell_type": "code",
   "execution_count": null,
   "id": "975e1ea8",
   "metadata": {},
   "outputs": [],
   "source": [
    "# clean dataframe keeping only required columns \n",
    "new_df = df.[[# list of column names]]\n",
    "new_df.head()"
   ]
  },
  {
   "cell_type": "code",
   "execution_count": null,
   "id": "726b800d",
   "metadata": {},
   "outputs": [],
   "source": [
    "# rename columns in DataFrame if needed\n",
    "clean_df = df.rename(columns={# \"key:value, \"})\n",
    "clean_df.head()"
   ]
  },
  {
   "cell_type": "code",
   "execution_count": null,
   "id": "091abcfe",
   "metadata": {},
   "outputs": [],
   "source": [
    "# export \n",
    "clean_df.to_csv(\"file name\",sep=\" \" )"
   ]
  }
 ],
 "metadata": {
  "kernelspec": {
   "display_name": "Python 3 (ipykernel)",
   "language": "python",
   "name": "python3"
  },
  "language_info": {
   "codemirror_mode": {
    "name": "ipython",
    "version": 3
   },
   "file_extension": ".py",
   "mimetype": "text/x-python",
   "name": "python",
   "nbconvert_exporter": "python",
   "pygments_lexer": "ipython3",
   "version": "3.9.7"
  }
 },
 "nbformat": 4,
 "nbformat_minor": 5
}
