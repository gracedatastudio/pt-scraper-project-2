{
 "cells": [
  {
   "cell_type": "code",
   "execution_count": 6,
   "id": "d974b632",
   "metadata": {},
   "outputs": [],
   "source": [
    "# Dependencies\n",
    "import pandas as pd\n",
    "from sqlalchemy import create_engine"
   ]
  },
  {
   "cell_type": "code",
   "execution_count": 7,
   "id": "05df71e5",
   "metadata": {
    "scrolled": true
   },
   "outputs": [
    {
     "data": {
      "text/html": [
       "<div>\n",
       "<style scoped>\n",
       "    .dataframe tbody tr th:only-of-type {\n",
       "        vertical-align: middle;\n",
       "    }\n",
       "\n",
       "    .dataframe tbody tr th {\n",
       "        vertical-align: top;\n",
       "    }\n",
       "\n",
       "    .dataframe thead th {\n",
       "        text-align: right;\n",
       "    }\n",
       "</style>\n",
       "<table border=\"1\" class=\"dataframe\">\n",
       "  <thead>\n",
       "    <tr style=\"text-align: right;\">\n",
       "      <th></th>\n",
       "      <th>item_number</th>\n",
       "      <th>new_item_number</th>\n",
       "      <th>dash</th>\n",
       "      <th>total_650K</th>\n",
       "    </tr>\n",
       "  </thead>\n",
       "  <tbody>\n",
       "    <tr>\n",
       "      <th>0</th>\n",
       "      <td>N97500-170-00001</td>\n",
       "      <td>NaN</td>\n",
       "      <td>NaN</td>\n",
       "      <td>0</td>\n",
       "    </tr>\n",
       "    <tr>\n",
       "      <th>1</th>\n",
       "      <td>N97500-145-00250</td>\n",
       "      <td>NaN</td>\n",
       "      <td>NaN</td>\n",
       "      <td>586</td>\n",
       "    </tr>\n",
       "    <tr>\n",
       "      <th>2</th>\n",
       "      <td>N97500-098-00011</td>\n",
       "      <td>NaN</td>\n",
       "      <td>NaN</td>\n",
       "      <td>0</td>\n",
       "    </tr>\n",
       "    <tr>\n",
       "      <th>3</th>\n",
       "      <td>N97500-082-00001</td>\n",
       "      <td>NaN</td>\n",
       "      <td>NaN</td>\n",
       "      <td>0</td>\n",
       "    </tr>\n",
       "    <tr>\n",
       "      <th>4</th>\n",
       "      <td>N93800-48003</td>\n",
       "      <td>NaN</td>\n",
       "      <td>NaN</td>\n",
       "      <td>0</td>\n",
       "    </tr>\n",
       "    <tr>\n",
       "      <th>...</th>\n",
       "      <td>...</td>\n",
       "      <td>...</td>\n",
       "      <td>...</td>\n",
       "      <td>...</td>\n",
       "    </tr>\n",
       "    <tr>\n",
       "      <th>2485</th>\n",
       "      <td>030123-003-06301</td>\n",
       "      <td>NaN</td>\n",
       "      <td>NaN</td>\n",
       "      <td>0</td>\n",
       "    </tr>\n",
       "    <tr>\n",
       "      <th>2486</th>\n",
       "      <td>030123-003-07301</td>\n",
       "      <td>NaN</td>\n",
       "      <td>NaN</td>\n",
       "      <td>0</td>\n",
       "    </tr>\n",
       "    <tr>\n",
       "      <th>2487</th>\n",
       "      <td>030123-003-08301</td>\n",
       "      <td>NaN</td>\n",
       "      <td>NaN</td>\n",
       "      <td>0</td>\n",
       "    </tr>\n",
       "    <tr>\n",
       "      <th>2488</th>\n",
       "      <td>030123-006-05300</td>\n",
       "      <td>NaN</td>\n",
       "      <td>NaN</td>\n",
       "      <td>0</td>\n",
       "    </tr>\n",
       "    <tr>\n",
       "      <th>2489</th>\n",
       "      <td>014496-543-30005</td>\n",
       "      <td>NaN</td>\n",
       "      <td>NaN</td>\n",
       "      <td>0</td>\n",
       "    </tr>\n",
       "  </tbody>\n",
       "</table>\n",
       "<p>2490 rows × 4 columns</p>\n",
       "</div>"
      ],
      "text/plain": [
       "           item_number  new_item_number  dash  total_650K\n",
       "0     N97500-170-00001              NaN   NaN           0\n",
       "1     N97500-145-00250              NaN   NaN         586\n",
       "2     N97500-098-00011              NaN   NaN           0\n",
       "3     N97500-082-00001              NaN   NaN           0\n",
       "4         N93800-48003              NaN   NaN           0\n",
       "...                ...              ...   ...         ...\n",
       "2485  030123-003-06301              NaN   NaN           0\n",
       "2486  030123-003-07301              NaN   NaN           0\n",
       "2487  030123-003-08301              NaN   NaN           0\n",
       "2488  030123-006-05300              NaN   NaN           0\n",
       "2489  014496-543-30005              NaN   NaN           0\n",
       "\n",
       "[2490 rows x 4 columns]"
      ]
     },
     "execution_count": 7,
     "metadata": {},
     "output_type": "execute_result"
    }
   ],
   "source": [
    "# read in raw csv file \"SAV4_file_raw_data\"\n",
    "df = pd.read_csv(\"/Users/mrsmclean/Desktop/pt-scraper-project-2/imclean/SAV4_file_raw_data.csv\")\n",
    "df"
   ]
  },
  {
   "cell_type": "code",
   "execution_count": null,
   "id": "9ca25d3c",
   "metadata": {},
   "outputs": [],
   "source": []
  },
  {
   "cell_type": "code",
   "execution_count": 15,
   "id": "705f9b59",
   "metadata": {},
   "outputs": [],
   "source": [
    "# drop 0 values in Total_650K\\n\n",
    "# clean_df =df[df['Total_650K\\n'] !=0]\n",
    "# clean_df"
   ]
  },
  {
   "cell_type": "code",
   "execution_count": 16,
   "id": "3f6df795",
   "metadata": {},
   "outputs": [],
   "source": [
    "# clean_df = df[df['Item_number'] == 'new_item_number'].copy()\n",
    "# clean_df\n",
    "\n",
    "# new data frame with split value columns\n",
    "# new_clean_df = clean_df[\"Item_number\"].str.split(\"-\", n = 1, expand = True)\n",
    "  \n",
    "# # making separate first name column from new data frame\n",
    "# clean_df[\"new_item_number\"]= new_clean_df[0]\n",
    "  \n",
    "# # making separate last name column from new data frame\n",
    "# clean_df[\"dash\"]= new_clean_df[1]\n",
    "\n",
    "# new_clean_df"
   ]
  },
  {
   "cell_type": "code",
   "execution_count": 18,
   "id": "192ccc6a",
   "metadata": {},
   "outputs": [],
   "source": [
    "# clean_df.append(new_clean_df)"
   ]
  },
  {
   "cell_type": "code",
   "execution_count": null,
   "id": "6d353c11",
   "metadata": {},
   "outputs": [],
   "source": [
    "\n"
   ]
  },
  {
   "cell_type": "code",
   "execution_count": 8,
   "id": "aa52e562",
   "metadata": {},
   "outputs": [
    {
     "ename": "NameError",
     "evalue": "name 'clean_df' is not defined",
     "output_type": "error",
     "traceback": [
      "\u001b[0;31m---------------------------------------------------------------------------\u001b[0m",
      "\u001b[0;31mNameError\u001b[0m                                 Traceback (most recent call last)",
      "\u001b[0;32m<ipython-input-8-5af12e117b72>\u001b[0m in \u001b[0;36m<module>\u001b[0;34m\u001b[0m\n\u001b[1;32m      1\u001b[0m \u001b[0;31m# export cleaned_csv_colour_conversion_item.csv\u001b[0m\u001b[0;34m\u001b[0m\u001b[0;34m\u001b[0m\u001b[0;34m\u001b[0m\u001b[0m\n\u001b[0;32m----> 2\u001b[0;31m \u001b[0mclean_df\u001b[0m\u001b[0;34m.\u001b[0m\u001b[0mto_csv\u001b[0m\u001b[0;34m(\u001b[0m\u001b[0;34m\"/Users/mrsmclean/Desktop/pt-scraper-project-2/T_data/cleaned_SAV4_file_raw_ data.csv\"\u001b[0m\u001b[0;34m,\u001b[0m \u001b[0mindex\u001b[0m\u001b[0;34m=\u001b[0m\u001b[0;32mFalse\u001b[0m\u001b[0;34m)\u001b[0m\u001b[0;34m\u001b[0m\u001b[0;34m\u001b[0m\u001b[0m\n\u001b[0m",
      "\u001b[0;31mNameError\u001b[0m: name 'clean_df' is not defined"
     ]
    }
   ],
   "source": [
    "# export cleaned_csv_colour_conversion_item.csv\n",
    "clean_df.to_csv(\"/Users/mrsmclean/Desktop/pt-scraper-project-2/T_data/cleaned_SAV4_file_raw_ data.csv\", index=False)"
   ]
  },
  {
   "cell_type": "code",
   "execution_count": null,
   "id": "8b82c192",
   "metadata": {},
   "outputs": [],
   "source": []
  }
 ],
 "metadata": {
  "kernelspec": {
   "display_name": "Python 3",
   "language": "python",
   "name": "python3"
  },
  "language_info": {
   "codemirror_mode": {
    "name": "ipython",
    "version": 3
   },
   "file_extension": ".py",
   "mimetype": "text/x-python",
   "name": "python",
   "nbconvert_exporter": "python",
   "pygments_lexer": "ipython3",
   "version": "3.8.8"
  }
 },
 "nbformat": 4,
 "nbformat_minor": 5
}
