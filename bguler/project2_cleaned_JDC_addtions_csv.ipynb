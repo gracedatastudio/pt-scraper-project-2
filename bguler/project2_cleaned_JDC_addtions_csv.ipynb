{
 "cells": [
  {
   "cell_type": "code",
   "execution_count": 15,
   "id": "ed927944",
   "metadata": {},
   "outputs": [],
   "source": [
    "import csv\n",
    "import pandas as pd\n",
    "\n",
    "with open (\"JDC_addtions.csv\") as file:\n",
    "    csvreader=csv.reader(file, delimiter=',')\n",
    "    header=next(csvreader)"
   ]
  },
  {
   "cell_type": "code",
   "execution_count": 27,
   "id": "bd209ff6",
   "metadata": {},
   "outputs": [
    {
     "name": "stderr",
     "output_type": "stream",
     "text": [
      "C:\\ProgramData\\Anaconda3\\lib\\site-packages\\IPython\\core\\interactiveshell.py:3444: DtypeWarning: Columns (7,8,9,10,11,22,31) have mixed types.Specify dtype option on import or set low_memory=False.\n",
      "  exec(code_obj, self.user_global_ns, self.user_ns)\n"
     ]
    },
    {
     "data": {
      "text/html": [
       "<div>\n",
       "<style scoped>\n",
       "    .dataframe tbody tr th:only-of-type {\n",
       "        vertical-align: middle;\n",
       "    }\n",
       "\n",
       "    .dataframe tbody tr th {\n",
       "        vertical-align: top;\n",
       "    }\n",
       "\n",
       "    .dataframe thead th {\n",
       "        text-align: right;\n",
       "    }\n",
       "</style>\n",
       "<table border=\"1\" class=\"dataframe\">\n",
       "  <thead>\n",
       "    <tr style=\"text-align: right;\">\n",
       "      <th></th>\n",
       "      <th>Item number</th>\n",
       "      <th>Tot_BL_Qty RevB</th>\n",
       "    </tr>\n",
       "  </thead>\n",
       "  <tbody>\n",
       "    <tr>\n",
       "      <th>0</th>\n",
       "      <td>001693-50000</td>\n",
       "      <td>12.0</td>\n",
       "    </tr>\n",
       "    <tr>\n",
       "      <th>1</th>\n",
       "      <td>009249-677-20612</td>\n",
       "      <td>6.0</td>\n",
       "    </tr>\n",
       "    <tr>\n",
       "      <th>2</th>\n",
       "      <td>012632-157-00001</td>\n",
       "      <td>6.0</td>\n",
       "    </tr>\n",
       "    <tr>\n",
       "      <th>3</th>\n",
       "      <td>012632-998-00001</td>\n",
       "      <td>48.0</td>\n",
       "    </tr>\n",
       "    <tr>\n",
       "      <th>4</th>\n",
       "      <td>002372-00507</td>\n",
       "      <td>156.0</td>\n",
       "    </tr>\n",
       "  </tbody>\n",
       "</table>\n",
       "</div>"
      ],
      "text/plain": [
       "        Item number  Tot_BL_Qty RevB\n",
       "0      001693-50000             12.0\n",
       "1  009249-677-20612              6.0\n",
       "2  012632-157-00001              6.0\n",
       "3  012632-998-00001             48.0\n",
       "4      002372-00507            156.0"
      ]
     },
     "execution_count": 27,
     "metadata": {},
     "output_type": "execute_result"
    }
   ],
   "source": [
    "data=pd.read_csv(\"JDC_addtions.csv\")\n",
    "data.head()\n",
    "data.drop(['Project'], axis=1, inplace=True)\n",
    "data.drop(['Project Name'], axis=1, inplace=True)\n",
    "data.drop(['Activity'], axis=1, inplace=True)\n",
    "data.drop(['Date'], axis=1, inplace=True)\n",
    "data.drop(['Library Identifier'], axis=1, inplace=True)\n",
    "data.drop(['Libary Revision'], axis=1, inplace=True)\n",
    "data.drop(['VI number'], axis=1, inplace=True)\n",
    "data.drop(['VI#123'], axis=1, inplace=True)\n",
    "data.drop(['VI#'], axis=1, inplace=True)\n",
    "data.drop(['VI#1'], axis=1, inplace=True)\n",
    "data.drop(['VI#2'], axis=1, inplace=True)\n",
    "data.drop(['VI#3'], axis=1, inplace=True)\n",
    "data.drop(['Component'], axis=1, inplace=True)\n",
    "data.drop(['Component identifier'], axis=1, inplace=True)\n",
    "data.drop(['Parent mark code'], axis=1, inplace=True)\n",
    "data.drop(['Item description'], axis=1, inplace=True)\n",
    "data.drop(['Item type'], axis=1, inplace=True)\n",
    "data.drop(['Quantity'], axis=1, inplace=True)\n",
    "data.drop(['Initials'], axis=1, inplace=True)\n",
    "data.drop(['Category'], axis=1, inplace=True)\n",
    "data.drop(['Mark code'], axis=1, inplace=True)\n",
    "data.drop(['Motor power'], axis=1, inplace=True)\n",
    "data.drop(['Required motor power'], axis=1, inplace=True)\n",
    "data.drop(['Width'], axis=1, inplace=True)\n",
    "data.drop(['Motor reducer'], axis=1, inplace=True)\n",
    "data.drop(['Brake'], axis=1, inplace=True)\n",
    "data.drop(['Model'], axis=1, inplace=True)\n",
    "data.drop(['Activity Split Up Description'], axis=1, inplace=True)\n",
    "data.drop(['Quantity_X RevB'], axis=1, inplace=True)\n",
    "data.drop(['Quantity_X RevC'], axis=1, inplace=True)\n",
    "data.drop(['Notes'], axis=1, inplace=True)\n",
    "data.drop(['MECH'], axis=1, inplace=True)\n",
    "\n",
    "\n",
    "\n",
    "data.head()"
   ]
  },
  {
   "cell_type": "code",
   "execution_count": null,
   "id": "4b04a65f",
   "metadata": {},
   "outputs": [],
   "source": []
  },
  {
   "cell_type": "code",
   "execution_count": null,
   "id": "2f36d4b7",
   "metadata": {},
   "outputs": [],
   "source": []
  }
 ],
 "metadata": {
  "kernelspec": {
   "display_name": "Python 3 (ipykernel)",
   "language": "python",
   "name": "python3"
  },
  "language_info": {
   "codemirror_mode": {
    "name": "ipython",
    "version": 3
   },
   "file_extension": ".py",
   "mimetype": "text/x-python",
   "name": "python",
   "nbconvert_exporter": "python",
   "pygments_lexer": "ipython3",
   "version": "3.9.7"
  }
 },
 "nbformat": 4,
 "nbformat_minor": 5
}
